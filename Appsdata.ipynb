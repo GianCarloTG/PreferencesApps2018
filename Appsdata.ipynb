{
 "cells": [
  {
   "cell_type": "markdown",
   "metadata": {},
   "source": [
    "# Profitable and Non Profitable Apps 2018"
   ]
  },
  {
   "cell_type": "markdown",
   "metadata": {},
   "source": [
    "This data is about profitable and non profitables apps on google appstore market and applestore in English. Our goal is to understand the raitings of the users for the apps."
   ]
  },
  {
   "cell_type": "code",
   "execution_count": 1,
   "metadata": {},
   "outputs": [],
   "source": [
    "#Exploring the dataset\n",
    "def explore_data(dataset, start, end, rows_and_columns=False):\n",
    "    dataset_slice = dataset[start:end]    \n",
    "    for row in dataset_slice:\n",
    "        print(row)\n",
    "        print('\\n') # adds a new (empty) line after each row\n",
    "\n",
    "    if rows_and_columns:\n",
    "        print('Number of rows:', len(dataset))\n",
    "        print('Number of columns:', len(dataset[0]))"
   ]
  },
  {
   "cell_type": "code",
   "execution_count": 2,
   "metadata": {},
   "outputs": [],
   "source": [
    "from csv import reader\n",
    "#For AppleDataset\n",
    "opened_file = open('AppleStore.csv',encoding='utf8')\n",
    "read_file = reader(opened_file)\n",
    "apple = list(read_file)\n",
    "apple_data = apple[1:]\n",
    "apple_data_header = apple[0]\n",
    "\n",
    "#For GoogleDataset\n",
    "opened_file = open('googleplaystore.csv',encoding='utf8')\n",
    "read_file = reader(opened_file)\n",
    "google = list(read_file)\n",
    "google_data = google[1:]\n",
    "google_data_header = google[0]"
   ]
  },
  {
   "cell_type": "code",
   "execution_count": 3,
   "metadata": {},
   "outputs": [
    {
     "name": "stdout",
     "output_type": "stream",
     "text": [
      "['', 'id', 'track_name', 'size_bytes', 'currency', 'price', 'rating_count_tot', 'rating_count_ver', 'user_rating', 'user_rating_ver', 'ver', 'cont_rating', 'prime_genre', 'sup_devices.num', 'ipadSc_urls.num', 'lang.num', 'vpp_lic']\n",
      "\n",
      "\n",
      "['1', '281656475', 'PAC-MAN Premium', '100788224', 'USD', '3.99', '21292', '26', '4', '4.5', '6.3.5', '4+', 'Games', '38', '5', '10', '1']\n",
      "\n",
      "\n",
      "['2', '281796108', 'Evernote - stay organized', '158578688', 'USD', '0', '161065', '26', '4', '3.5', '8.2.2', '4+', 'Productivity', '37', '5', '23', '1']\n",
      "\n",
      "\n",
      "['3', '281940292', 'WeatherBug - Local Weather, Radar, Maps, Alerts', '100524032', 'USD', '0', '188583', '2822', '3.5', '4.5', '5.0.0', '4+', 'Weather', '37', '5', '3', '1']\n",
      "\n",
      "\n",
      "Number of rows: 7197\n",
      "Number of columns: 17\n"
     ]
    }
   ],
   "source": [
    "#This is one is a test of the function explore_data for apple_data\n",
    "print(apple_data_header)\n",
    "print('\\n')\n",
    "explore_data(apple_data,0,3,rows_and_columns=True)"
   ]
  },
  {
   "cell_type": "code",
   "execution_count": 4,
   "metadata": {},
   "outputs": [
    {
     "name": "stdout",
     "output_type": "stream",
     "text": [
      "['App', 'Category', 'Rating', 'Reviews', 'Size', 'Installs', 'Type', 'Price', 'Content Rating', 'Genres', 'Last Updated', 'Current Ver', 'Android Ver']\n",
      "\n",
      "\n",
      "['Photo Editor & Candy Camera & Grid & ScrapBook', 'ART_AND_DESIGN', '4.1', '159', '19M', '10,000+', 'Free', '0', 'Everyone', 'Art & Design', 'January 7, 2018', '1.0.0', '4.0.3 and up']\n",
      "\n",
      "\n",
      "['Coloring book moana', 'ART_AND_DESIGN', '3.9', '967', '14M', '500,000+', 'Free', '0', 'Everyone', 'Art & Design;Pretend Play', 'January 15, 2018', '2.0.0', '4.0.3 and up']\n",
      "\n",
      "\n",
      "['U Launcher Lite – FREE Live Cool Themes, Hide Apps', 'ART_AND_DESIGN', '4.7', '87510', '8.7M', '5,000,000+', 'Free', '0', 'Everyone', 'Art & Design', 'August 1, 2018', '1.2.4', '4.0.3 and up']\n",
      "\n",
      "\n",
      "Number of rows: 10841\n",
      "Number of columns: 13\n"
     ]
    }
   ],
   "source": [
    "#This is one is a test of the function explore_data forgoogle_data\n",
    "print(google_data_header)\n",
    "print('\\n')\n",
    "explore_data(google_data,0,3,rows_and_columns=True)"
   ]
  },
  {
   "cell_type": "markdown",
   "metadata": {},
   "source": [
    "#### Acording to this data, we will take the rows that are the most useful for our analysis. App, Rating, Genres andPrice. The data  googleapps has been taken from this link https://www.kaggle.com/lava18/google-play-store-apps [link text](http://url)\n"
   ]
  },
  {
   "cell_type": "markdown",
   "metadata": {},
   "source": [
    "## Cleaning data"
   ]
  },
  {
   "cell_type": "markdown",
   "metadata": {},
   "source": [
    "THe next step is cleand the data, there are duplicates and inaccurate data. In order of that we will delete apps that are not in english and those that aren't free."
   ]
  },
  {
   "cell_type": "code",
   "execution_count": 5,
   "metadata": {},
   "outputs": [
    {
     "name": "stdout",
     "output_type": "stream",
     "text": [
      "['Life Made WI-Fi Touchscreen Photo Frame', '1.9', '19', '3.0M', '1,000+', 'Free', '0', 'Everyone', '', 'February 11, 2018', '1.0.19', '4.0 and up']\n",
      "\n",
      "\n"
     ]
    }
   ],
   "source": [
    "#Looking in the csv file, we cansee that the the 'category' columns has a rating value,\\n' so all the values of the columns has shifted#\n",
    "explore_data(google_data,10472,10473,rows_and_columns=False)"
   ]
  },
  {
   "cell_type": "code",
   "execution_count": 6,
   "metadata": {},
   "outputs": [],
   "source": [
    "#Now we delete it\n",
    "del google_data[10472]"
   ]
  },
  {
   "cell_type": "code",
   "execution_count": 7,
   "metadata": {},
   "outputs": [
    {
     "name": "stdout",
     "output_type": "stream",
     "text": [
      "Number of duplicates in google:  1181\n",
      "['Quick PDF Scanner + OCR FREE', 'Box', 'Google My Business', 'ZOOM Cloud Meetings', 'join.me - Simple Meetings', 'Box', 'Zenefits', 'Google Ads', 'Google My Business', 'Slack', 'FreshBooks Classic', 'Insightly CRM', 'QuickBooks Accounting: Invoicing & Expenses', 'HipChat - Chat Built for Teams', 'Xero Accounting Software']\n"
     ]
    }
   ],
   "source": [
    "#Finding all duplicates in googledata\n",
    "google_unique = []\n",
    "google_duplicates = []\n",
    "for a in google_data:\n",
    "    name = a[0]\n",
    "    if name in google_unique:\n",
    "        google_duplicates.append(name)\n",
    "    else:\n",
    "        google_unique.append(name)\n",
    "print('Number of duplicates in google: ',len(google_duplicates))\n",
    "print(google_duplicates[:15])"
   ]
  },
  {
   "cell_type": "code",
   "execution_count": 8,
   "metadata": {},
   "outputs": [
    {
     "name": "stdout",
     "output_type": "stream",
     "text": [
      "Number of duplicates in apple:  2\n",
      "['VR Roller Coaster', 'Mannequin Challenge']\n"
     ]
    }
   ],
   "source": [
    "#Finding all duplicates in appledata\n",
    "apple_unique = []\n",
    "apple_duplicates = []\n",
    "for a in apple_data:\n",
    "    name = a[2]\n",
    "    if name in apple_unique:\n",
    "        apple_duplicates.append(name)\n",
    "    else:\n",
    "        apple_unique.append(name)\n",
    "print('Number of duplicates in apple: ',len(apple_duplicates))\n",
    "print(apple_duplicates[:15])"
   ]
  },
  {
   "cell_type": "markdown",
   "metadata": {},
   "source": [
    "As we can see there are many duplicates, but each duplicates has different values in each rows. So, we have to make a criterion to decide wich one are we going to use. In order of that, we are going to consider first the number of users that it has, then installs, last update and content rating."
   ]
  },
  {
   "cell_type": "code",
   "execution_count": 9,
   "metadata": {},
   "outputs": [
    {
     "name": "stdout",
     "output_type": "stream",
     "text": [
      "9659\n",
      "7197\n"
     ]
    }
   ],
   "source": [
    "# We are going to use as a criterion REVIEWS, so we create a dictionary with the name of the app and their max review to have the clear data\n",
    "### First for google dataset\n",
    "greviews_max = {}\n",
    "for a in google_data:\n",
    "    name = a[0]\n",
    "    n_reviews = float(a[3])\n",
    "    if name in greviews_max and greviews_max[name] < n_reviews:\n",
    "        greviews_max[name] = n_reviews\n",
    "    elif name not in greviews_max:\n",
    "        greviews_max[name] = n_reviews            \n",
    "print(len(greviews_max))\n",
    "\n",
    "### Second for apple dataset\n",
    "areviews_max = {}\n",
    "for a in apple_data:\n",
    "    name = a[0]\n",
    "    n_reviews = float(a[3])\n",
    "    if name in areviews_max and areviews_max[name] < n_reviews:\n",
    "        areviews_max[name] = n_reviews\n",
    "    elif name not in areviews_max:\n",
    "        areviews_max[name] = n_reviews\n",
    "print(len(areviews_max))"
   ]
  },
  {
   "cell_type": "code",
   "execution_count": 10,
   "metadata": {
    "scrolled": false
   },
   "outputs": [
    {
     "name": "stdout",
     "output_type": "stream",
     "text": [
      "9659\n",
      "7196\n"
     ]
    }
   ],
   "source": [
    "# We start to clean base\n",
    "android_clean = []\n",
    "already_added = []\n",
    "for a in google_data:\n",
    "    name = a[0]\n",
    "    n_reviews = float(a[3])\n",
    "    if n_reviews == greviews_max[name] and name not in already_added:\n",
    "        android_clean.append(a)\n",
    "        already_added.append(name)\n",
    "\n",
    "print(len(android_clean))\n",
    "\n",
    "apple_clean = []\n",
    "apple_already_added = []\n",
    "for a in apple_data[1:]:\n",
    "    name = a[0]\n",
    "    n_reviews = float(a[3])\n",
    "    if n_reviews == areviews_max[name] and name not in apple_already_added:\n",
    "        apple_clean.append(a)\n",
    "        apple_already_added.append(name)\n",
    "\n",
    "print(len(apple_clean))"
   ]
  },
  {
   "cell_type": "markdown",
   "metadata": {},
   "source": [
    "Now we are goint to delete the apps that are not in English. According to ASCII alphabet English symbols are in the following range '[0, 127]. So any letter > 127 corresponds a non English app."
   ]
  },
  {
   "cell_type": "code",
   "execution_count": 11,
   "metadata": {
    "scrolled": true
   },
   "outputs": [
    {
     "name": "stdout",
     "output_type": "stream",
     "text": [
      "True\n",
      "True\n",
      "False\n"
     ]
    }
   ],
   "source": [
    "#This function would consider an app english if it has less than 3 characters less ASCII 127\n",
    "def english(string):\n",
    "    num_charact_ne = 0\n",
    "    for character in string:\n",
    "        if ord(character) > 127:\n",
    "            num_charact_ne += 1\n",
    "            \n",
    "    if num_charact_ne > 3:\n",
    "        return False\n",
    "    else:\n",
    "        return True\n",
    "\n",
    "\n",
    "#testing function                                 \n",
    "print(english('Docs To Go™ Free Office Suite'))\n",
    "print(english('Instachat 😜'))\n",
    "print(english('昨夜のコンサ'))"
   ]
  },
  {
   "cell_type": "code",
   "execution_count": 12,
   "metadata": {},
   "outputs": [
    {
     "name": "stdout",
     "output_type": "stream",
     "text": [
      "9614\n",
      "['Photo Editor & Candy Camera & Grid & ScrapBook', 'ART_AND_DESIGN', '4.1', '159', '19M', '10,000+', 'Free', '0', 'Everyone', 'Art & Design', 'January 7, 2018', '1.0.0', '4.0.3 and up']\n",
      "6182\n",
      "['2', '281796108', 'Evernote - stay organized', '158578688', 'USD', '0', '161065', '26', '4', '3.5', '8.2.2', '4+', 'Productivity', '37', '5', '23', '1']\n"
     ]
    }
   ],
   "source": [
    "#Now we use the previous function to get the english apps\n",
    "## Let's star with android data\n",
    "android_english = []\n",
    "for a in android_clean:\n",
    "    name = a[0]\n",
    "    if english(name):\n",
    "        android_english.append(a)\n",
    "        \n",
    "apple_english = []\n",
    "for a in apple_clean:\n",
    "    name = a[2]\n",
    "    if english(name):\n",
    "        apple_english.append(a)\n",
    "        \n",
    "print(len(android_english))\n",
    "print(android_english[0])\n",
    "print(len(apple_english))\n",
    "print(apple_english[0])"
   ]
  },
  {
   "cell_type": "markdown",
   "metadata": {},
   "source": [
    "As we notice, in our dataset are apps that are non free. The goal of this project is to understand the FREE ones, so lets isolate them"
   ]
  },
  {
   "cell_type": "code",
   "execution_count": 33,
   "metadata": {},
   "outputs": [
    {
     "name": "stdout",
     "output_type": "stream",
     "text": [
      "8864\n",
      "3222\n"
     ]
    }
   ],
   "source": [
    "#Isolation for google dataset\n",
    "android_clean_free = []\n",
    "for a in android_english:\n",
    "    price = a[7]\n",
    "    if price == '0' or price == '0.0' or price == '0.00' or price == ' ':\n",
    "        android_clean_free.append(a)\n",
    "\n",
    "print(len(android_clean_free))\n",
    "\n",
    "#Isolation for apple dataset\n",
    "apple_clean_free = []\n",
    "for a in apple_english:\n",
    "    price = a[5]\n",
    "    if price == '0' or price == '0.0' or price == '0.00' or price == ' ':\n",
    "        apple_clean_free.append(a)\n",
    "print(len(apple_clean_free))"
   ]
  },
  {
   "cell_type": "markdown",
   "metadata": {},
   "source": [
    "As we mentioned at the beginning, the purpose of this project is understand the preferences of the users for free apps, what they see in a free app?, and what we should consider if we want to create one. So far we just cleaned the data for two markets (android and ios), merge both will be the next step."
   ]
  },
  {
   "cell_type": "code",
   "execution_count": 48,
   "metadata": {},
   "outputs": [
    {
     "name": "stdout",
     "output_type": "stream",
     "text": [
      "{'art_and_design': 57, 'auto_and_vehicles': 82, 'beauty': 53, 'books_and_reference': 190, 'business': 424, 'comics': 55, 'communication': 287, 'dating': 165, 'education': 221, 'entertainment': 339, 'events': 63, 'finance': 364, 'food_and_drink': 110, 'health_and_fitness': 273, 'house_and_home': 73, 'libraries_and_demo': 83, 'lifestyle': 397, 'game': 862, 'family': 1676, 'medical': 319, 'social': 236, 'shopping': 283, 'photography': 261, 'sports': 370, 'travel_and_local': 207, 'tools': 750, 'personalization': 294, 'productivity': 401, 'parenting': 58, 'weather': 99, 'video_players': 159, 'news_and_magazines': 248, 'maps_and_navigation': 124, 'reference': 18, 'music': 66, 'utilities': 81, 'travel': 40, 'social networking': 106, 'health & fitness': 65, 'games': 1874, 'food & drink': 26, 'news': 43, 'book': 14, 'photo & video': 160, 'navigation': 6, 'catalogs': 4}\n"
     ]
    }
   ],
   "source": [
    "genres_merged = {}\n",
    "for a in android_clean_free:\n",
    "    genre = a[1].lower()\n",
    "    if genre in genres_merged:\n",
    "        genres_merged[genre] += 1\n",
    "    else:\n",
    "        genres_merged[genre] = 1\n",
    "\n",
    "for a in apple_clean_free:\n",
    "    genre = a[12].lower()\n",
    "    if genre in genres_merged:\n",
    "        genres_merged[genre] += 1\n",
    "    else:\n",
    "        genres_merged[genre] = 1        \n",
    "print(genres_merged)    "
   ]
  },
  {
   "cell_type": "code",
   "execution_count": 53,
   "metadata": {},
   "outputs": [
    {
     "name": "stdout",
     "output_type": "stream",
     "text": [
      "12086\n"
     ]
    }
   ],
   "source": [
    "#Counting the number of elements\n",
    "total = 0\n",
    "for a in genres_merged:\n",
    "    total = total +genres_merged[a]\n",
    "print(total)"
   ]
  },
  {
   "cell_type": "code",
   "execution_count": 55,
   "metadata": {},
   "outputs": [
    {
     "name": "stdout",
     "output_type": "stream",
     "text": [
      "{'art_and_design': 0.0039022013591216726, 'auto_and_vehicles': 0.005613693183297844, 'beauty': 0.0036283626672534847, 'books_and_reference': 0.013007337863738904, 'business': 0.029026901338027877, 'comics': 0.0037652820131875786, 'communication': 0.019647926141542458, 'dating': 0.011295846039562735, 'education': 0.015129587725717361, 'entertainment': 0.02320782913582889, 'events': 0.0043129593969239545, 'finance': 0.024919320960005063, 'food_and_drink': 0.007530564026375157, 'health_and_fitness': 0.0186894907200038, 'house_and_home': 0.0049975561265944235, 'libraries_and_demo': 0.005682152856264891, 'lifestyle': 0.02717849016791761, 'game': 0.05901223809759441, 'family': 0.11473841189277058, 'medical': 0.021838635676487955, 'social': 0.016156482820223063, 'shopping': 0.01937408744967427, 'photography': 0.01786797464439924, 'sports': 0.025330078997807343, 'travel_and_local': 0.014171152304178702, 'tools': 0.051344754725285165, 'personalization': 0.020127143852311784, 'productivity': 0.0274523288597858, 'parenting': 0.003970661032088719, 'weather': 0.006777507623737642, 'video_players': 0.010885088001760454, 'news_and_magazines': 0.016977998895827625, 'maps_and_navigation': 0.008488999447913812, 'reference': 0.001232274113406844, 'music': 0.004518338415825094, 'utilities': 0.005545233510330798, 'travel': 0.002738386918681875, 'social networking': 0.007256725334506969, 'health & fitness': 0.004449878742858048, 'games': 0.12829342714024586, 'food & drink': 0.001779951497143219, 'news': 0.0029437659375830157, 'book': 0.0009584354215386563, 'photo & video': 0.0109535476747275, 'navigation': 0.0004107580378022812, 'catalogs': 0.00027383869186818757}\n"
     ]
    }
   ],
   "source": [
    "# Converting the dictionary genres_merged in a frequency table\n",
    "for a in genres_merged:\n",
    "    genres_merged[a] = (genres_merged[a] / total)*100\n",
    "print(genres_merged)  "
   ]
  },
  {
   "cell_type": "code",
   "execution_count": 56,
   "metadata": {},
   "outputs": [],
   "source": [
    "def freq_table(dataset, index)\n",
    "\n",
    "def display_table(dataset, index):\n",
    "    table = freq_table(dataset, index)\n",
    "    table_display = []\n",
    "    for key in table:\n",
    "        key_val_as_tuple = (table[key], key)\n",
    "        table_display.append(key_val_as_tuple)\n",
    "\n",
    "    table_sorted = sorted(table_display, reverse = True)\n",
    "    for entry in table_sorted:\n",
    "        print(entry[1], ':', entry[0])"
   ]
  },
  {
   "cell_type": "code",
   "execution_count": 57,
   "metadata": {},
   "outputs": [
    {
     "ename": "NameError",
     "evalue": "name 'freq_table' is not defined",
     "output_type": "error",
     "traceback": [
      "\u001b[1;31m---------------------------------------------------------------------------\u001b[0m",
      "\u001b[1;31mNameError\u001b[0m                                 Traceback (most recent call last)",
      "\u001b[1;32m<ipython-input-57-3c57c633ea85>\u001b[0m in \u001b[0;36m<module>\u001b[1;34m\u001b[0m\n\u001b[1;32m----> 1\u001b[1;33m \u001b[0mdisplay_table\u001b[0m\u001b[1;33m(\u001b[0m\u001b[0mgenres_merged\u001b[0m\u001b[1;33m,\u001b[0m \u001b[1;36m0\u001b[0m\u001b[1;33m)\u001b[0m\u001b[1;33m\u001b[0m\u001b[1;33m\u001b[0m\u001b[0m\n\u001b[0m",
      "\u001b[1;32m<ipython-input-56-1e762299aaa3>\u001b[0m in \u001b[0;36mdisplay_table\u001b[1;34m(dataset, index)\u001b[0m\n\u001b[0;32m      1\u001b[0m \u001b[1;32mdef\u001b[0m \u001b[0mdisplay_table\u001b[0m\u001b[1;33m(\u001b[0m\u001b[0mdataset\u001b[0m\u001b[1;33m,\u001b[0m \u001b[0mindex\u001b[0m\u001b[1;33m)\u001b[0m\u001b[1;33m:\u001b[0m\u001b[1;33m\u001b[0m\u001b[1;33m\u001b[0m\u001b[0m\n\u001b[1;32m----> 2\u001b[1;33m     \u001b[0mtable\u001b[0m \u001b[1;33m=\u001b[0m \u001b[0mfreq_table\u001b[0m\u001b[1;33m(\u001b[0m\u001b[0mdataset\u001b[0m\u001b[1;33m,\u001b[0m \u001b[0mindex\u001b[0m\u001b[1;33m)\u001b[0m\u001b[1;33m\u001b[0m\u001b[1;33m\u001b[0m\u001b[0m\n\u001b[0m\u001b[0;32m      3\u001b[0m     \u001b[0mtable_display\u001b[0m \u001b[1;33m=\u001b[0m \u001b[1;33m[\u001b[0m\u001b[1;33m]\u001b[0m\u001b[1;33m\u001b[0m\u001b[1;33m\u001b[0m\u001b[0m\n\u001b[0;32m      4\u001b[0m     \u001b[1;32mfor\u001b[0m \u001b[0mkey\u001b[0m \u001b[1;32min\u001b[0m \u001b[0mtable\u001b[0m\u001b[1;33m:\u001b[0m\u001b[1;33m\u001b[0m\u001b[1;33m\u001b[0m\u001b[0m\n\u001b[0;32m      5\u001b[0m         \u001b[0mkey_val_as_tuple\u001b[0m \u001b[1;33m=\u001b[0m \u001b[1;33m(\u001b[0m\u001b[0mtable\u001b[0m\u001b[1;33m[\u001b[0m\u001b[0mkey\u001b[0m\u001b[1;33m]\u001b[0m\u001b[1;33m,\u001b[0m \u001b[0mkey\u001b[0m\u001b[1;33m)\u001b[0m\u001b[1;33m\u001b[0m\u001b[1;33m\u001b[0m\u001b[0m\n",
      "\u001b[1;31mNameError\u001b[0m: name 'freq_table' is not defined"
     ]
    }
   ],
   "source": [
    "display_table(genres_merged, 0)"
   ]
  },
  {
   "cell_type": "code",
   "execution_count": null,
   "metadata": {},
   "outputs": [],
   "source": []
  }
 ],
 "metadata": {
  "kernelspec": {
   "display_name": "Python 3",
   "language": "python",
   "name": "python3"
  },
  "language_info": {
   "codemirror_mode": {
    "name": "ipython",
    "version": 3
   },
   "file_extension": ".py",
   "mimetype": "text/x-python",
   "name": "python",
   "nbconvert_exporter": "python",
   "pygments_lexer": "ipython3",
   "version": "3.7.4"
  }
 },
 "nbformat": 4,
 "nbformat_minor": 2
}
